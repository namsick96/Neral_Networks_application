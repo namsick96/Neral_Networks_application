{
  "nbformat": 4,
  "nbformat_minor": 0,
  "metadata": {
    "colab": {
      "name": "BigData_assignment01.ipynb",
      "provenance": [],
      "collapsed_sections": [],
      "mount_file_id": "1LZSqbTkDjulJbwYraSL8ctIeUOGLoQtv",
      "authorship_tag": "ABX9TyMUyl8uFTRmmpGx3czT5Hz4",
      "include_colab_link": true
    },
    "kernelspec": {
      "name": "python3",
      "display_name": "Python 3"
    },
    "accelerator": "GPU",
    "widgets": {
      "application/vnd.jupyter.widget-state+json": {
        "6ec5a0265e9b4fd9b38f8e4b2cd9ec97": {
          "model_module": "@jupyter-widgets/controls",
          "model_name": "HBoxModel",
          "state": {
            "_view_name": "HBoxView",
            "_dom_classes": [],
            "_model_name": "HBoxModel",
            "_view_module": "@jupyter-widgets/controls",
            "_model_module_version": "1.5.0",
            "_view_count": null,
            "_view_module_version": "1.5.0",
            "box_style": "",
            "layout": "IPY_MODEL_d26522e64d174b82882eb7deca4c7d3d",
            "_model_module": "@jupyter-widgets/controls",
            "children": [
              "IPY_MODEL_e94b41c3ad8e4c86b65953a7336be0cd",
              "IPY_MODEL_e93a5667a9b0439b9ba6de96b46eff70"
            ]
          }
        },
        "d26522e64d174b82882eb7deca4c7d3d": {
          "model_module": "@jupyter-widgets/base",
          "model_name": "LayoutModel",
          "state": {
            "_view_name": "LayoutView",
            "grid_template_rows": null,
            "right": null,
            "justify_content": null,
            "_view_module": "@jupyter-widgets/base",
            "overflow": null,
            "_model_module_version": "1.2.0",
            "_view_count": null,
            "flex_flow": null,
            "width": null,
            "min_width": null,
            "border": null,
            "align_items": null,
            "bottom": null,
            "_model_module": "@jupyter-widgets/base",
            "top": null,
            "grid_column": null,
            "overflow_y": null,
            "overflow_x": null,
            "grid_auto_flow": null,
            "grid_area": null,
            "grid_template_columns": null,
            "flex": null,
            "_model_name": "LayoutModel",
            "justify_items": null,
            "grid_row": null,
            "max_height": null,
            "align_content": null,
            "visibility": null,
            "align_self": null,
            "height": null,
            "min_height": null,
            "padding": null,
            "grid_auto_rows": null,
            "grid_gap": null,
            "max_width": null,
            "order": null,
            "_view_module_version": "1.2.0",
            "grid_template_areas": null,
            "object_position": null,
            "object_fit": null,
            "grid_auto_columns": null,
            "margin": null,
            "display": null,
            "left": null
          }
        },
        "e94b41c3ad8e4c86b65953a7336be0cd": {
          "model_module": "@jupyter-widgets/controls",
          "model_name": "FloatProgressModel",
          "state": {
            "_view_name": "ProgressView",
            "style": "IPY_MODEL_8bbef6a48017449db1b06692e0278b58",
            "_dom_classes": [],
            "description": "",
            "_model_name": "FloatProgressModel",
            "bar_style": "success",
            "max": 9912422,
            "_view_module": "@jupyter-widgets/controls",
            "_model_module_version": "1.5.0",
            "value": 9912422,
            "_view_count": null,
            "_view_module_version": "1.5.0",
            "orientation": "horizontal",
            "min": 0,
            "description_tooltip": null,
            "_model_module": "@jupyter-widgets/controls",
            "layout": "IPY_MODEL_e4ec31c321f1431c918607c0c43d06bb"
          }
        },
        "e93a5667a9b0439b9ba6de96b46eff70": {
          "model_module": "@jupyter-widgets/controls",
          "model_name": "HTMLModel",
          "state": {
            "_view_name": "HTMLView",
            "style": "IPY_MODEL_dab04b8ee2ca4fd6818a0c92d00b9713",
            "_dom_classes": [],
            "description": "",
            "_model_name": "HTMLModel",
            "placeholder": "​",
            "_view_module": "@jupyter-widgets/controls",
            "_model_module_version": "1.5.0",
            "value": " 9913344/? [16:40&lt;00:00, 9908.52it/s]",
            "_view_count": null,
            "_view_module_version": "1.5.0",
            "description_tooltip": null,
            "_model_module": "@jupyter-widgets/controls",
            "layout": "IPY_MODEL_00c4cb08b49849eaa50c95ef7c024f7f"
          }
        },
        "8bbef6a48017449db1b06692e0278b58": {
          "model_module": "@jupyter-widgets/controls",
          "model_name": "ProgressStyleModel",
          "state": {
            "_view_name": "StyleView",
            "_model_name": "ProgressStyleModel",
            "description_width": "initial",
            "_view_module": "@jupyter-widgets/base",
            "_model_module_version": "1.5.0",
            "_view_count": null,
            "_view_module_version": "1.2.0",
            "bar_color": null,
            "_model_module": "@jupyter-widgets/controls"
          }
        },
        "e4ec31c321f1431c918607c0c43d06bb": {
          "model_module": "@jupyter-widgets/base",
          "model_name": "LayoutModel",
          "state": {
            "_view_name": "LayoutView",
            "grid_template_rows": null,
            "right": null,
            "justify_content": null,
            "_view_module": "@jupyter-widgets/base",
            "overflow": null,
            "_model_module_version": "1.2.0",
            "_view_count": null,
            "flex_flow": null,
            "width": null,
            "min_width": null,
            "border": null,
            "align_items": null,
            "bottom": null,
            "_model_module": "@jupyter-widgets/base",
            "top": null,
            "grid_column": null,
            "overflow_y": null,
            "overflow_x": null,
            "grid_auto_flow": null,
            "grid_area": null,
            "grid_template_columns": null,
            "flex": null,
            "_model_name": "LayoutModel",
            "justify_items": null,
            "grid_row": null,
            "max_height": null,
            "align_content": null,
            "visibility": null,
            "align_self": null,
            "height": null,
            "min_height": null,
            "padding": null,
            "grid_auto_rows": null,
            "grid_gap": null,
            "max_width": null,
            "order": null,
            "_view_module_version": "1.2.0",
            "grid_template_areas": null,
            "object_position": null,
            "object_fit": null,
            "grid_auto_columns": null,
            "margin": null,
            "display": null,
            "left": null
          }
        },
        "dab04b8ee2ca4fd6818a0c92d00b9713": {
          "model_module": "@jupyter-widgets/controls",
          "model_name": "DescriptionStyleModel",
          "state": {
            "_view_name": "StyleView",
            "_model_name": "DescriptionStyleModel",
            "description_width": "",
            "_view_module": "@jupyter-widgets/base",
            "_model_module_version": "1.5.0",
            "_view_count": null,
            "_view_module_version": "1.2.0",
            "_model_module": "@jupyter-widgets/controls"
          }
        },
        "00c4cb08b49849eaa50c95ef7c024f7f": {
          "model_module": "@jupyter-widgets/base",
          "model_name": "LayoutModel",
          "state": {
            "_view_name": "LayoutView",
            "grid_template_rows": null,
            "right": null,
            "justify_content": null,
            "_view_module": "@jupyter-widgets/base",
            "overflow": null,
            "_model_module_version": "1.2.0",
            "_view_count": null,
            "flex_flow": null,
            "width": null,
            "min_width": null,
            "border": null,
            "align_items": null,
            "bottom": null,
            "_model_module": "@jupyter-widgets/base",
            "top": null,
            "grid_column": null,
            "overflow_y": null,
            "overflow_x": null,
            "grid_auto_flow": null,
            "grid_area": null,
            "grid_template_columns": null,
            "flex": null,
            "_model_name": "LayoutModel",
            "justify_items": null,
            "grid_row": null,
            "max_height": null,
            "align_content": null,
            "visibility": null,
            "align_self": null,
            "height": null,
            "min_height": null,
            "padding": null,
            "grid_auto_rows": null,
            "grid_gap": null,
            "max_width": null,
            "order": null,
            "_view_module_version": "1.2.0",
            "grid_template_areas": null,
            "object_position": null,
            "object_fit": null,
            "grid_auto_columns": null,
            "margin": null,
            "display": null,
            "left": null
          }
        },
        "0a8c1931d62045ebbe820984db237e13": {
          "model_module": "@jupyter-widgets/controls",
          "model_name": "HBoxModel",
          "state": {
            "_view_name": "HBoxView",
            "_dom_classes": [],
            "_model_name": "HBoxModel",
            "_view_module": "@jupyter-widgets/controls",
            "_model_module_version": "1.5.0",
            "_view_count": null,
            "_view_module_version": "1.5.0",
            "box_style": "",
            "layout": "IPY_MODEL_e1f659362ab84bb4a55014d7e260ea44",
            "_model_module": "@jupyter-widgets/controls",
            "children": [
              "IPY_MODEL_d66b280df3cf480a8aeef4e07cb20602",
              "IPY_MODEL_af990c1d97844b3c8df53e402f7fb9e6"
            ]
          }
        },
        "e1f659362ab84bb4a55014d7e260ea44": {
          "model_module": "@jupyter-widgets/base",
          "model_name": "LayoutModel",
          "state": {
            "_view_name": "LayoutView",
            "grid_template_rows": null,
            "right": null,
            "justify_content": null,
            "_view_module": "@jupyter-widgets/base",
            "overflow": null,
            "_model_module_version": "1.2.0",
            "_view_count": null,
            "flex_flow": null,
            "width": null,
            "min_width": null,
            "border": null,
            "align_items": null,
            "bottom": null,
            "_model_module": "@jupyter-widgets/base",
            "top": null,
            "grid_column": null,
            "overflow_y": null,
            "overflow_x": null,
            "grid_auto_flow": null,
            "grid_area": null,
            "grid_template_columns": null,
            "flex": null,
            "_model_name": "LayoutModel",
            "justify_items": null,
            "grid_row": null,
            "max_height": null,
            "align_content": null,
            "visibility": null,
            "align_self": null,
            "height": null,
            "min_height": null,
            "padding": null,
            "grid_auto_rows": null,
            "grid_gap": null,
            "max_width": null,
            "order": null,
            "_view_module_version": "1.2.0",
            "grid_template_areas": null,
            "object_position": null,
            "object_fit": null,
            "grid_auto_columns": null,
            "margin": null,
            "display": null,
            "left": null
          }
        },
        "d66b280df3cf480a8aeef4e07cb20602": {
          "model_module": "@jupyter-widgets/controls",
          "model_name": "FloatProgressModel",
          "state": {
            "_view_name": "ProgressView",
            "style": "IPY_MODEL_462998e2544c4beea6ed8ff10b7891c6",
            "_dom_classes": [],
            "description": "",
            "_model_name": "FloatProgressModel",
            "bar_style": "success",
            "max": 28881,
            "_view_module": "@jupyter-widgets/controls",
            "_model_module_version": "1.5.0",
            "value": 28881,
            "_view_count": null,
            "_view_module_version": "1.5.0",
            "orientation": "horizontal",
            "min": 0,
            "description_tooltip": null,
            "_model_module": "@jupyter-widgets/controls",
            "layout": "IPY_MODEL_dd7d99cbfac44c4b9cdaf0d6e2ac3e32"
          }
        },
        "af990c1d97844b3c8df53e402f7fb9e6": {
          "model_module": "@jupyter-widgets/controls",
          "model_name": "HTMLModel",
          "state": {
            "_view_name": "HTMLView",
            "style": "IPY_MODEL_9945f01a208f4b078e9e5e00b5cc0e34",
            "_dom_classes": [],
            "description": "",
            "_model_name": "HTMLModel",
            "placeholder": "​",
            "_view_module": "@jupyter-widgets/controls",
            "_model_module_version": "1.5.0",
            "value": " 29696/? [01:42&lt;00:00, 288.96it/s]",
            "_view_count": null,
            "_view_module_version": "1.5.0",
            "description_tooltip": null,
            "_model_module": "@jupyter-widgets/controls",
            "layout": "IPY_MODEL_7a7dd61d0df545f0adf9abb04d688a65"
          }
        },
        "462998e2544c4beea6ed8ff10b7891c6": {
          "model_module": "@jupyter-widgets/controls",
          "model_name": "ProgressStyleModel",
          "state": {
            "_view_name": "StyleView",
            "_model_name": "ProgressStyleModel",
            "description_width": "initial",
            "_view_module": "@jupyter-widgets/base",
            "_model_module_version": "1.5.0",
            "_view_count": null,
            "_view_module_version": "1.2.0",
            "bar_color": null,
            "_model_module": "@jupyter-widgets/controls"
          }
        },
        "dd7d99cbfac44c4b9cdaf0d6e2ac3e32": {
          "model_module": "@jupyter-widgets/base",
          "model_name": "LayoutModel",
          "state": {
            "_view_name": "LayoutView",
            "grid_template_rows": null,
            "right": null,
            "justify_content": null,
            "_view_module": "@jupyter-widgets/base",
            "overflow": null,
            "_model_module_version": "1.2.0",
            "_view_count": null,
            "flex_flow": null,
            "width": null,
            "min_width": null,
            "border": null,
            "align_items": null,
            "bottom": null,
            "_model_module": "@jupyter-widgets/base",
            "top": null,
            "grid_column": null,
            "overflow_y": null,
            "overflow_x": null,
            "grid_auto_flow": null,
            "grid_area": null,
            "grid_template_columns": null,
            "flex": null,
            "_model_name": "LayoutModel",
            "justify_items": null,
            "grid_row": null,
            "max_height": null,
            "align_content": null,
            "visibility": null,
            "align_self": null,
            "height": null,
            "min_height": null,
            "padding": null,
            "grid_auto_rows": null,
            "grid_gap": null,
            "max_width": null,
            "order": null,
            "_view_module_version": "1.2.0",
            "grid_template_areas": null,
            "object_position": null,
            "object_fit": null,
            "grid_auto_columns": null,
            "margin": null,
            "display": null,
            "left": null
          }
        },
        "9945f01a208f4b078e9e5e00b5cc0e34": {
          "model_module": "@jupyter-widgets/controls",
          "model_name": "DescriptionStyleModel",
          "state": {
            "_view_name": "StyleView",
            "_model_name": "DescriptionStyleModel",
            "description_width": "",
            "_view_module": "@jupyter-widgets/base",
            "_model_module_version": "1.5.0",
            "_view_count": null,
            "_view_module_version": "1.2.0",
            "_model_module": "@jupyter-widgets/controls"
          }
        },
        "7a7dd61d0df545f0adf9abb04d688a65": {
          "model_module": "@jupyter-widgets/base",
          "model_name": "LayoutModel",
          "state": {
            "_view_name": "LayoutView",
            "grid_template_rows": null,
            "right": null,
            "justify_content": null,
            "_view_module": "@jupyter-widgets/base",
            "overflow": null,
            "_model_module_version": "1.2.0",
            "_view_count": null,
            "flex_flow": null,
            "width": null,
            "min_width": null,
            "border": null,
            "align_items": null,
            "bottom": null,
            "_model_module": "@jupyter-widgets/base",
            "top": null,
            "grid_column": null,
            "overflow_y": null,
            "overflow_x": null,
            "grid_auto_flow": null,
            "grid_area": null,
            "grid_template_columns": null,
            "flex": null,
            "_model_name": "LayoutModel",
            "justify_items": null,
            "grid_row": null,
            "max_height": null,
            "align_content": null,
            "visibility": null,
            "align_self": null,
            "height": null,
            "min_height": null,
            "padding": null,
            "grid_auto_rows": null,
            "grid_gap": null,
            "max_width": null,
            "order": null,
            "_view_module_version": "1.2.0",
            "grid_template_areas": null,
            "object_position": null,
            "object_fit": null,
            "grid_auto_columns": null,
            "margin": null,
            "display": null,
            "left": null
          }
        },
        "32eb5f9323e142f5a2934cab7e3330cc": {
          "model_module": "@jupyter-widgets/controls",
          "model_name": "HBoxModel",
          "state": {
            "_view_name": "HBoxView",
            "_dom_classes": [],
            "_model_name": "HBoxModel",
            "_view_module": "@jupyter-widgets/controls",
            "_model_module_version": "1.5.0",
            "_view_count": null,
            "_view_module_version": "1.5.0",
            "box_style": "",
            "layout": "IPY_MODEL_630ccaab76d544e987dc12f69904fe06",
            "_model_module": "@jupyter-widgets/controls",
            "children": [
              "IPY_MODEL_92f39f9dafc04dd4a40b4dd9cf155122",
              "IPY_MODEL_11a87e23c2594ff6a7193229840cd67b"
            ]
          }
        },
        "630ccaab76d544e987dc12f69904fe06": {
          "model_module": "@jupyter-widgets/base",
          "model_name": "LayoutModel",
          "state": {
            "_view_name": "LayoutView",
            "grid_template_rows": null,
            "right": null,
            "justify_content": null,
            "_view_module": "@jupyter-widgets/base",
            "overflow": null,
            "_model_module_version": "1.2.0",
            "_view_count": null,
            "flex_flow": null,
            "width": null,
            "min_width": null,
            "border": null,
            "align_items": null,
            "bottom": null,
            "_model_module": "@jupyter-widgets/base",
            "top": null,
            "grid_column": null,
            "overflow_y": null,
            "overflow_x": null,
            "grid_auto_flow": null,
            "grid_area": null,
            "grid_template_columns": null,
            "flex": null,
            "_model_name": "LayoutModel",
            "justify_items": null,
            "grid_row": null,
            "max_height": null,
            "align_content": null,
            "visibility": null,
            "align_self": null,
            "height": null,
            "min_height": null,
            "padding": null,
            "grid_auto_rows": null,
            "grid_gap": null,
            "max_width": null,
            "order": null,
            "_view_module_version": "1.2.0",
            "grid_template_areas": null,
            "object_position": null,
            "object_fit": null,
            "grid_auto_columns": null,
            "margin": null,
            "display": null,
            "left": null
          }
        },
        "92f39f9dafc04dd4a40b4dd9cf155122": {
          "model_module": "@jupyter-widgets/controls",
          "model_name": "FloatProgressModel",
          "state": {
            "_view_name": "ProgressView",
            "style": "IPY_MODEL_d94df32742dd457d81162a8a1e072a59",
            "_dom_classes": [],
            "description": "",
            "_model_name": "FloatProgressModel",
            "bar_style": "success",
            "max": 1648877,
            "_view_module": "@jupyter-widgets/controls",
            "_model_module_version": "1.5.0",
            "value": 1648877,
            "_view_count": null,
            "_view_module_version": "1.5.0",
            "orientation": "horizontal",
            "min": 0,
            "description_tooltip": null,
            "_model_module": "@jupyter-widgets/controls",
            "layout": "IPY_MODEL_64983a38f0944e5597e5af0ebdfdb45f"
          }
        },
        "11a87e23c2594ff6a7193229840cd67b": {
          "model_module": "@jupyter-widgets/controls",
          "model_name": "HTMLModel",
          "state": {
            "_view_name": "HTMLView",
            "style": "IPY_MODEL_437fa3065d174943bf01210bdd1132dd",
            "_dom_classes": [],
            "description": "",
            "_model_name": "HTMLModel",
            "placeholder": "​",
            "_view_module": "@jupyter-widgets/controls",
            "_model_module_version": "1.5.0",
            "value": " 1649664/? [00:51&lt;00:00, 32243.38it/s]",
            "_view_count": null,
            "_view_module_version": "1.5.0",
            "description_tooltip": null,
            "_model_module": "@jupyter-widgets/controls",
            "layout": "IPY_MODEL_04b7876692a04eacb25a748e4aa2a2e1"
          }
        },
        "d94df32742dd457d81162a8a1e072a59": {
          "model_module": "@jupyter-widgets/controls",
          "model_name": "ProgressStyleModel",
          "state": {
            "_view_name": "StyleView",
            "_model_name": "ProgressStyleModel",
            "description_width": "initial",
            "_view_module": "@jupyter-widgets/base",
            "_model_module_version": "1.5.0",
            "_view_count": null,
            "_view_module_version": "1.2.0",
            "bar_color": null,
            "_model_module": "@jupyter-widgets/controls"
          }
        },
        "64983a38f0944e5597e5af0ebdfdb45f": {
          "model_module": "@jupyter-widgets/base",
          "model_name": "LayoutModel",
          "state": {
            "_view_name": "LayoutView",
            "grid_template_rows": null,
            "right": null,
            "justify_content": null,
            "_view_module": "@jupyter-widgets/base",
            "overflow": null,
            "_model_module_version": "1.2.0",
            "_view_count": null,
            "flex_flow": null,
            "width": null,
            "min_width": null,
            "border": null,
            "align_items": null,
            "bottom": null,
            "_model_module": "@jupyter-widgets/base",
            "top": null,
            "grid_column": null,
            "overflow_y": null,
            "overflow_x": null,
            "grid_auto_flow": null,
            "grid_area": null,
            "grid_template_columns": null,
            "flex": null,
            "_model_name": "LayoutModel",
            "justify_items": null,
            "grid_row": null,
            "max_height": null,
            "align_content": null,
            "visibility": null,
            "align_self": null,
            "height": null,
            "min_height": null,
            "padding": null,
            "grid_auto_rows": null,
            "grid_gap": null,
            "max_width": null,
            "order": null,
            "_view_module_version": "1.2.0",
            "grid_template_areas": null,
            "object_position": null,
            "object_fit": null,
            "grid_auto_columns": null,
            "margin": null,
            "display": null,
            "left": null
          }
        },
        "437fa3065d174943bf01210bdd1132dd": {
          "model_module": "@jupyter-widgets/controls",
          "model_name": "DescriptionStyleModel",
          "state": {
            "_view_name": "StyleView",
            "_model_name": "DescriptionStyleModel",
            "description_width": "",
            "_view_module": "@jupyter-widgets/base",
            "_model_module_version": "1.5.0",
            "_view_count": null,
            "_view_module_version": "1.2.0",
            "_model_module": "@jupyter-widgets/controls"
          }
        },
        "04b7876692a04eacb25a748e4aa2a2e1": {
          "model_module": "@jupyter-widgets/base",
          "model_name": "LayoutModel",
          "state": {
            "_view_name": "LayoutView",
            "grid_template_rows": null,
            "right": null,
            "justify_content": null,
            "_view_module": "@jupyter-widgets/base",
            "overflow": null,
            "_model_module_version": "1.2.0",
            "_view_count": null,
            "flex_flow": null,
            "width": null,
            "min_width": null,
            "border": null,
            "align_items": null,
            "bottom": null,
            "_model_module": "@jupyter-widgets/base",
            "top": null,
            "grid_column": null,
            "overflow_y": null,
            "overflow_x": null,
            "grid_auto_flow": null,
            "grid_area": null,
            "grid_template_columns": null,
            "flex": null,
            "_model_name": "LayoutModel",
            "justify_items": null,
            "grid_row": null,
            "max_height": null,
            "align_content": null,
            "visibility": null,
            "align_self": null,
            "height": null,
            "min_height": null,
            "padding": null,
            "grid_auto_rows": null,
            "grid_gap": null,
            "max_width": null,
            "order": null,
            "_view_module_version": "1.2.0",
            "grid_template_areas": null,
            "object_position": null,
            "object_fit": null,
            "grid_auto_columns": null,
            "margin": null,
            "display": null,
            "left": null
          }
        },
        "54989cfece304330b494392d37430f51": {
          "model_module": "@jupyter-widgets/controls",
          "model_name": "HBoxModel",
          "state": {
            "_view_name": "HBoxView",
            "_dom_classes": [],
            "_model_name": "HBoxModel",
            "_view_module": "@jupyter-widgets/controls",
            "_model_module_version": "1.5.0",
            "_view_count": null,
            "_view_module_version": "1.5.0",
            "box_style": "",
            "layout": "IPY_MODEL_baf853a5161943e8adb64077e1e89f66",
            "_model_module": "@jupyter-widgets/controls",
            "children": [
              "IPY_MODEL_c74805d895f94da29d465233cb1164aa",
              "IPY_MODEL_6de8ee41459841208d80c3e48c627e65"
            ]
          }
        },
        "baf853a5161943e8adb64077e1e89f66": {
          "model_module": "@jupyter-widgets/base",
          "model_name": "LayoutModel",
          "state": {
            "_view_name": "LayoutView",
            "grid_template_rows": null,
            "right": null,
            "justify_content": null,
            "_view_module": "@jupyter-widgets/base",
            "overflow": null,
            "_model_module_version": "1.2.0",
            "_view_count": null,
            "flex_flow": null,
            "width": null,
            "min_width": null,
            "border": null,
            "align_items": null,
            "bottom": null,
            "_model_module": "@jupyter-widgets/base",
            "top": null,
            "grid_column": null,
            "overflow_y": null,
            "overflow_x": null,
            "grid_auto_flow": null,
            "grid_area": null,
            "grid_template_columns": null,
            "flex": null,
            "_model_name": "LayoutModel",
            "justify_items": null,
            "grid_row": null,
            "max_height": null,
            "align_content": null,
            "visibility": null,
            "align_self": null,
            "height": null,
            "min_height": null,
            "padding": null,
            "grid_auto_rows": null,
            "grid_gap": null,
            "max_width": null,
            "order": null,
            "_view_module_version": "1.2.0",
            "grid_template_areas": null,
            "object_position": null,
            "object_fit": null,
            "grid_auto_columns": null,
            "margin": null,
            "display": null,
            "left": null
          }
        },
        "c74805d895f94da29d465233cb1164aa": {
          "model_module": "@jupyter-widgets/controls",
          "model_name": "FloatProgressModel",
          "state": {
            "_view_name": "ProgressView",
            "style": "IPY_MODEL_5b62450fff2e4122b8d2c563f82222b8",
            "_dom_classes": [],
            "description": "",
            "_model_name": "FloatProgressModel",
            "bar_style": "success",
            "max": 4542,
            "_view_module": "@jupyter-widgets/controls",
            "_model_module_version": "1.5.0",
            "value": 4542,
            "_view_count": null,
            "_view_module_version": "1.5.0",
            "orientation": "horizontal",
            "min": 0,
            "description_tooltip": null,
            "_model_module": "@jupyter-widgets/controls",
            "layout": "IPY_MODEL_a4d5cb7eb534485fb70ffc6a0cfd9a61"
          }
        },
        "6de8ee41459841208d80c3e48c627e65": {
          "model_module": "@jupyter-widgets/controls",
          "model_name": "HTMLModel",
          "state": {
            "_view_name": "HTMLView",
            "style": "IPY_MODEL_54eba2f6b272492a840dd975fe774567",
            "_dom_classes": [],
            "description": "",
            "_model_name": "HTMLModel",
            "placeholder": "​",
            "_view_module": "@jupyter-widgets/controls",
            "_model_module_version": "1.5.0",
            "value": " 5120/? [09:51&lt;00:00,  8.66it/s]",
            "_view_count": null,
            "_view_module_version": "1.5.0",
            "description_tooltip": null,
            "_model_module": "@jupyter-widgets/controls",
            "layout": "IPY_MODEL_f918917bcb4c412ba8e2432e38b35783"
          }
        },
        "5b62450fff2e4122b8d2c563f82222b8": {
          "model_module": "@jupyter-widgets/controls",
          "model_name": "ProgressStyleModel",
          "state": {
            "_view_name": "StyleView",
            "_model_name": "ProgressStyleModel",
            "description_width": "initial",
            "_view_module": "@jupyter-widgets/base",
            "_model_module_version": "1.5.0",
            "_view_count": null,
            "_view_module_version": "1.2.0",
            "bar_color": null,
            "_model_module": "@jupyter-widgets/controls"
          }
        },
        "a4d5cb7eb534485fb70ffc6a0cfd9a61": {
          "model_module": "@jupyter-widgets/base",
          "model_name": "LayoutModel",
          "state": {
            "_view_name": "LayoutView",
            "grid_template_rows": null,
            "right": null,
            "justify_content": null,
            "_view_module": "@jupyter-widgets/base",
            "overflow": null,
            "_model_module_version": "1.2.0",
            "_view_count": null,
            "flex_flow": null,
            "width": null,
            "min_width": null,
            "border": null,
            "align_items": null,
            "bottom": null,
            "_model_module": "@jupyter-widgets/base",
            "top": null,
            "grid_column": null,
            "overflow_y": null,
            "overflow_x": null,
            "grid_auto_flow": null,
            "grid_area": null,
            "grid_template_columns": null,
            "flex": null,
            "_model_name": "LayoutModel",
            "justify_items": null,
            "grid_row": null,
            "max_height": null,
            "align_content": null,
            "visibility": null,
            "align_self": null,
            "height": null,
            "min_height": null,
            "padding": null,
            "grid_auto_rows": null,
            "grid_gap": null,
            "max_width": null,
            "order": null,
            "_view_module_version": "1.2.0",
            "grid_template_areas": null,
            "object_position": null,
            "object_fit": null,
            "grid_auto_columns": null,
            "margin": null,
            "display": null,
            "left": null
          }
        },
        "54eba2f6b272492a840dd975fe774567": {
          "model_module": "@jupyter-widgets/controls",
          "model_name": "DescriptionStyleModel",
          "state": {
            "_view_name": "StyleView",
            "_model_name": "DescriptionStyleModel",
            "description_width": "",
            "_view_module": "@jupyter-widgets/base",
            "_model_module_version": "1.5.0",
            "_view_count": null,
            "_view_module_version": "1.2.0",
            "_model_module": "@jupyter-widgets/controls"
          }
        },
        "f918917bcb4c412ba8e2432e38b35783": {
          "model_module": "@jupyter-widgets/base",
          "model_name": "LayoutModel",
          "state": {
            "_view_name": "LayoutView",
            "grid_template_rows": null,
            "right": null,
            "justify_content": null,
            "_view_module": "@jupyter-widgets/base",
            "overflow": null,
            "_model_module_version": "1.2.0",
            "_view_count": null,
            "flex_flow": null,
            "width": null,
            "min_width": null,
            "border": null,
            "align_items": null,
            "bottom": null,
            "_model_module": "@jupyter-widgets/base",
            "top": null,
            "grid_column": null,
            "overflow_y": null,
            "overflow_x": null,
            "grid_auto_flow": null,
            "grid_area": null,
            "grid_template_columns": null,
            "flex": null,
            "_model_name": "LayoutModel",
            "justify_items": null,
            "grid_row": null,
            "max_height": null,
            "align_content": null,
            "visibility": null,
            "align_self": null,
            "height": null,
            "min_height": null,
            "padding": null,
            "grid_auto_rows": null,
            "grid_gap": null,
            "max_width": null,
            "order": null,
            "_view_module_version": "1.2.0",
            "grid_template_areas": null,
            "object_position": null,
            "object_fit": null,
            "grid_auto_columns": null,
            "margin": null,
            "display": null,
            "left": null
          }
        }
      }
    }
  },
  "cells": [
    {
      "cell_type": "markdown",
      "metadata": {
        "id": "view-in-github",
        "colab_type": "text"
      },
      "source": [
        "<a href=\"https://colab.research.google.com/github/namsick96/Neral_Networks_application/blob/main/BigData_assignment01.ipynb\" target=\"_parent\"><img src=\"https://colab.research.google.com/assets/colab-badge.svg\" alt=\"Open In Colab\"/></a>"
      ]
    },
    {
      "cell_type": "code",
      "metadata": {
        "id": "eRDCsHkliq4g"
      },
      "source": [
        "import torch\n",
        "import torch.nn as nn\n",
        "import torch.nn.functional as F\n",
        "import torch.optim as optim\n",
        "\n",
        "from torch.utils.data import DataLoader, Dataset\n",
        "from torchvision import datasets, transforms\n",
        "\n",
        "#EDA\n",
        "import matplotlib.pyplot as plt\n",
        "import random\n",
        "import numpy as np"
      ],
      "execution_count": 1,
      "outputs": []
    },
    {
      "cell_type": "code",
      "metadata": {
        "colab": {
          "base_uri": "https://localhost:8080/"
        },
        "id": "Ph9Bl0wtQk5u",
        "outputId": "701d4884-f0d2-4a7e-aa58-b1dc0c5f26d3"
      },
      "source": [
        "#hyper parameters\n",
        "batch_size=64\n",
        "epochs=10\n",
        "lr=0.01\n",
        "seed=1\n",
        "momentum=0.5\n",
        "interval=100\n",
        "use_cuda=torch.cuda.is_available()\n",
        "print(use_cuda)\n",
        "torch.manual_seed(seed)\n",
        "device=torch.device(\"cuda\" if use_cuda else \"cpu\")"
      ],
      "execution_count": 2,
      "outputs": [
        {
          "output_type": "stream",
          "text": [
            "True\n"
          ],
          "name": "stdout"
        }
      ]
    },
    {
      "cell_type": "markdown",
      "metadata": {
        "id": "aAwTlALjkDgY"
      },
      "source": [
        "# Mnist dataset 만들기"
      ]
    },
    {
      "cell_type": "code",
      "metadata": {
        "id": "kxLRFuHL271B"
      },
      "source": [
        "#data upload\n",
        "class MnistDataset(Dataset): \n",
        "  def __init__(self,x,y):\n",
        "    self.x_data = x\n",
        "    self.y_data = y\n",
        "\n",
        "  # 총 데이터의 개수를 리턴\n",
        "  def __len__(self): \n",
        "    return len(self.x_data)\n",
        "\n",
        "  # 인덱스를 입력받아 그에 맵핑되는 입출력 데이터를 파이토치의 Tensor 형태로 리턴\n",
        "  def __getitem__(self, idx): \n",
        "    x = torch.FloatTensor(self.x_data[idx])\n",
        "    y = torch.LongTensor(self.y_data[idx])\n",
        "    return x, y"
      ],
      "execution_count": 4,
      "outputs": []
    },
    {
      "cell_type": "markdown",
      "metadata": {
        "id": "wiysnLfDkLB3"
      },
      "source": [
        "우선 콜랩을 구글 드라이브에 마운트 해줍니다. 구글 드라이브에 있는 데이터들을 끌어오기 위함입니다."
      ]
    },
    {
      "cell_type": "code",
      "metadata": {
        "colab": {
          "base_uri": "https://localhost:8080/"
        },
        "id": "4MNx7Bxm3OwX",
        "outputId": "3cc04a04-2a67-47ae-d33e-d3f1efaf1b6d"
      },
      "source": [
        "import os, sys\n",
        "from google.colab import drive, files\n",
        "drive.mount('/content/mnt',force_remount=True)\n",
        "nb_path = '/content/notebooks'\n",
        "sys.path.insert(0, nb_path)\n"
      ],
      "execution_count": 5,
      "outputs": [
        {
          "output_type": "stream",
          "text": [
            "Mounted at /content/mnt\n"
          ],
          "name": "stdout"
        }
      ]
    },
    {
      "cell_type": "markdown",
      "metadata": {
        "id": "cseQJpCFl3k6"
      },
      "source": [
        "train 데이터셋 저장하기"
      ]
    },
    {
      "cell_type": "code",
      "metadata": {
        "colab": {
          "base_uri": "https://localhost:8080/",
          "height": 598
        },
        "id": "fnFU0rpQVu8I",
        "outputId": "6f0b905d-b6f7-40cb-d955-691e346a59d9"
      },
      "source": [
        "# https://m.blog.naver.com/PostView.nhn?blogId=acwboy&logNo=220584307823&proxyReferer=https:%2F%2Fwww.google.com%2F 파이썬으로 mnist읽기를 참조했습니다. 파이썬으로 읽고 pytorch tensor로 변환했씁니다.\n",
        "import numpy as np\n",
        "import sys\n",
        "import os\n",
        "from array import array\n",
        "\n",
        "from struct import *\n",
        "import matplotlib\n",
        "import matplotlib.pyplot as plt\n",
        "import matplotlib.cm as cm\n",
        "\n",
        "train_x=torch.zeros(size=(60000,28,28),dtype=torch.float32)\n",
        "train_y=torch.zeros(size=(60000,10),dtype=torch.long)\n",
        "\n",
        "fp_image = open('./notebooks/train_image','rb')\n",
        "fp_label = open('./notebooks/train_label','rb')\n",
        "img = np.zeros((28,28)) #이미지가 저장될 부분\n",
        "d = 0\n",
        "l = 0\n",
        "index=0\n",
        "\n",
        "#temp\n",
        "\n",
        "s = fp_image.read(16)    #read first 16byte\n",
        "l = fp_label.read(8)     #read first  8byte\n",
        "\n",
        "\n",
        "\n",
        "#숫자 데이터를 읽어서 해당하는 데이터를 지정하고 출력 \n",
        "\n",
        "k=0#테스트용 index\n",
        "#read mnist and show number\n",
        "while True:    \n",
        "    s = fp_image.read(784) #784바이트씩 읽음\n",
        "    l = fp_label.read(1) #1바이트씩 읽음\n",
        "\n",
        "    if not s:\n",
        "        break;\n",
        "    if not l:\n",
        "        break;\n",
        "\n",
        "    index = int(l[0])\n",
        "    #print(k,\":\",index)\n",
        "\n",
        "#unpack\n",
        "    img = np.reshape( unpack(len(s)*'B',s), (28,28))\n",
        "    img=torch.from_numpy(img)\n",
        "    train_x[k]=img\n",
        "    train_y[k][index]=1 #one-hot encoding\n",
        "    k=k+1\n",
        "    \"\"\"\n",
        "    if (k==60000*0.25):\n",
        "      break\n",
        "    \"\"\"\n",
        "\n",
        "#print(img)\n",
        "print(k)\n",
        "print(index)\n",
        "print(train_x.size())\n",
        "print(train_y[k-1])\n",
        "plt.imshow(train_x[k-1][:][:],cmap=cm.binary)\n",
        "plt.show()\n",
        "plt.imshow(img,cmap = cm.binary) #binary형태의 이미지 설정\n",
        "plt.show()\n",
        "\n",
        "#print(np.shape(lbl)) #label별로 잘 지정됬는지 확인\n",
        "\n",
        "print(\"read done\")"
      ],
      "execution_count": 211,
      "outputs": [
        {
          "output_type": "stream",
          "text": [
            "60000\n",
            "8\n",
            "torch.Size([60000, 28, 28])\n",
            "tensor([0, 0, 0, 0, 0, 0, 0, 0, 1, 0])\n"
          ],
          "name": "stdout"
        },
        {
          "output_type": "display_data",
          "data": {
            "image/png": "[encoded data removed]",
            "text/plain": [
              "<Figure size 432x288 with 1 Axes>"
            ]
          },
          "metadata": {
            "tags": [],
            "needs_background": "light"
          }
        },
        {
          "output_type": "display_data",
          "data": {
            "image/png": "[encoded data removed]",
            "text/plain": [
              "<Figure size 432x288 with 1 Axes>"
            ]
          },
          "metadata": {
            "tags": [],
            "needs_background": "light"
          }
        },
        {
          "output_type": "stream",
          "text": [
            "read done\n"
          ],
          "name": "stdout"
        }
      ]
    },
    {
      "cell_type": "markdown",
      "metadata": {
        "id": "eGF-cFjTkWjj"
      },
      "source": [
        "test 데이터 셋 저장하기"
      ]
    },
    {
      "cell_type": "code",
      "metadata": {
        "colab": {
          "base_uri": "https://localhost:8080/",
          "height": 598
        },
        "id": "8YmfB8SCBYGD",
        "outputId": "972ae67f-d769-4754-a0df-d6f2f04df73f"
      },
      "source": [
        "test_x=torch.empty(size=(10000,28,28))\n",
        "test_y=torch.zeros(size=(10000,10))\n",
        "\n",
        "\n",
        "fp_image = open('./notebooks/test_image','rb')\n",
        "fp_label = open('./notebooks/test_label','rb')\n",
        "img = np.zeros((28,28)) #이미지가 저장될 부분\n",
        "d = 0\n",
        "l = 0\n",
        "index=0\n",
        "\n",
        "#temp\n",
        "\n",
        "s = fp_image.read(16)    #read first 16byte\n",
        "l = fp_label.read(8)     #read first  8byte\n",
        "\n",
        "\n",
        "\n",
        "#숫자 데이터를 읽어서 해당하는 데이터를 지정하고 출력 \n",
        "\n",
        "k=0#테스트용 index\n",
        "#read mnist and show number\n",
        "while True:    \n",
        "    s = fp_image.read(784) #784바이트씩 읽음\n",
        "    l = fp_label.read(1) #1바이트씩 읽음\n",
        "\n",
        "    if not s:\n",
        "        break;\n",
        "    if not l:\n",
        "        break;\n",
        "\n",
        "    index = int(l[0])\n",
        "    #print(k,\":\",index)\n",
        "\n",
        "#unpack\n",
        "    img = np.reshape( unpack(len(s)*'B',s), (28,28))\n",
        "    img=torch.from_numpy(img)\n",
        "    test_x[k]=img\n",
        "    test_y[k][index]=float(1) #one-hot encoding\n",
        "    k=k+1\n",
        "    \n",
        "\n",
        "#print(img)\n",
        "print(k)\n",
        "print(index)\n",
        "print(test_x.size())\n",
        "print(test_y[9999])\n",
        "plt.imshow(test_x[9999][:][:],cmap=cm.binary)\n",
        "plt.show()\n",
        "plt.imshow(img,cmap = cm.binary) #binary형태의 이미지 설정\n",
        "plt.show()\n",
        "\n",
        "#print(np.shape(lbl)) #label별로 잘 지정됬는지 확인\n",
        "\n",
        "print(\"read done\")"
      ],
      "execution_count": 212,
      "outputs": [
        {
          "output_type": "stream",
          "text": [
            "10000\n",
            "6\n",
            "torch.Size([10000, 28, 28])\n",
            "tensor([0., 0., 0., 0., 0., 0., 1., 0., 0., 0.])\n"
          ],
          "name": "stdout"
        },
        {
          "output_type": "display_data",
          "data": {
            "image/png": "[encoded data removed]",
            "text/plain": [
              "<Figure size 432x288 with 1 Axes>"
            ]
          },
          "metadata": {
            "tags": [],
            "needs_background": "light"
          }
        },
        {
          "output_type": "display_data",
          "data": {
            "image/png": "[encoded data removed]",
            "text/plain": [
              "<Figure size 432x288 with 1 Axes>"
            ]
          },
          "metadata": {
            "tags": [],
            "needs_background": "light"
          }
        },
        {
          "output_type": "stream",
          "text": [
            "read done\n"
          ],
          "name": "stdout"
        }
      ]
    },
    {
      "cell_type": "code",
      "metadata": {
        "id": "yHDqK4jVjsVE"
      },
      "source": [
        "trainDataset=MnistDataset(train_x,train_y)\n",
        "testDataset=MnistDataset(test_x,test_y)\n",
        "train_loader=DataLoader(trainDataset,batch_size=batch_size,shuffle=True)\n",
        "test_loader=DataLoader(testDataset,batch_size=batch_size,shuffle=True)"
      ],
      "execution_count": 205,
      "outputs": []
    },
    {
      "cell_type": "code",
      "metadata": {
        "id": "nEn-thq2i1kI",
        "colab": {
          "base_uri": "https://localhost:8080/",
          "height": 437,
          "referenced_widgets": [
            "6ec5a0265e9b4fd9b38f8e4b2cd9ec97",
            "d26522e64d174b82882eb7deca4c7d3d",
            "e94b41c3ad8e4c86b65953a7336be0cd",
            "e93a5667a9b0439b9ba6de96b46eff70",
            "8bbef6a48017449db1b06692e0278b58",
            "e4ec31c321f1431c918607c0c43d06bb",
            "dab04b8ee2ca4fd6818a0c92d00b9713",
            "00c4cb08b49849eaa50c95ef7c024f7f",
            "0a8c1931d62045ebbe820984db237e13",
            "e1f659362ab84bb4a55014d7e260ea44",
            "d66b280df3cf480a8aeef4e07cb20602",
            "af990c1d97844b3c8df53e402f7fb9e6",
            "462998e2544c4beea6ed8ff10b7891c6",
            "dd7d99cbfac44c4b9cdaf0d6e2ac3e32",
            "9945f01a208f4b078e9e5e00b5cc0e34",
            "7a7dd61d0df545f0adf9abb04d688a65",
            "32eb5f9323e142f5a2934cab7e3330cc",
            "630ccaab76d544e987dc12f69904fe06",
            "92f39f9dafc04dd4a40b4dd9cf155122",
            "11a87e23c2594ff6a7193229840cd67b",
            "d94df32742dd457d81162a8a1e072a59",
            "64983a38f0944e5597e5af0ebdfdb45f",
            "437fa3065d174943bf01210bdd1132dd",
            "04b7876692a04eacb25a748e4aa2a2e1",
            "54989cfece304330b494392d37430f51",
            "baf853a5161943e8adb64077e1e89f66",
            "c74805d895f94da29d465233cb1164aa",
            "6de8ee41459841208d80c3e48c627e65",
            "5b62450fff2e4122b8d2c563f82222b8",
            "a4d5cb7eb534485fb70ffc6a0cfd9a61",
            "54eba2f6b272492a840dd975fe774567",
            "f918917bcb4c412ba8e2432e38b35783"
          ]
        },
        "outputId": "5764dd4c-8b29-4800-f13e-9cc09f1b0386"
      },
      "source": [
        "# get Mnist data\n",
        "train_loader = torch.utils.data.DataLoader(\n",
        "  datasets.MNIST(root='../data', train=True, download=True, transform=transforms.ToTensor()), \n",
        "    batch_size = batch_size, shuffle=True)\n",
        "test_loader = torch.utils.data.DataLoader(\n",
        "        datasets.MNIST('../data', train=False, download=True,\n",
        "                 transform=transforms.ToTensor()), \n",
        "    batch_size=batch_size, shuffle=True)"
      ],
      "execution_count": 3,
      "outputs": [
        {
          "output_type": "stream",
          "text": [
            "Downloading http://yann.lecun.com/exdb/mnist/train-images-idx3-ubyte.gz to ../data/MNIST/raw/train-images-idx3-ubyte.gz\n"
          ],
          "name": "stdout"
        },
        {
          "output_type": "display_data",
          "data": {
            "application/vnd.jupyter.widget-view+json": {
              "model_id": "6ec5a0265e9b4fd9b38f8e4b2cd9ec97",
              "version_minor": 0,
              "version_major": 2
            },
            "text/plain": [
              "HBox(children=(FloatProgress(value=0.0, max=9912422.0), HTML(value='')))"
            ]
          },
          "metadata": {
            "tags": []
          }
        },
        {
          "output_type": "stream",
          "text": [
            "\n",
            "Extracting ../data/MNIST/raw/train-images-idx3-ubyte.gz to ../data/MNIST/raw\n",
            "Downloading http://yann.lecun.com/exdb/mnist/train-labels-idx1-ubyte.gz to ../data/MNIST/raw/train-labels-idx1-ubyte.gz\n"
          ],
          "name": "stdout"
        },
        {
          "output_type": "display_data",
          "data": {
            "application/vnd.jupyter.widget-view+json": {
              "model_id": "0a8c1931d62045ebbe820984db237e13",
              "version_minor": 0,
              "version_major": 2
            },
            "text/plain": [
              "HBox(children=(FloatProgress(value=0.0, max=28881.0), HTML(value='')))"
            ]
          },
          "metadata": {
            "tags": []
          }
        },
        {
          "output_type": "stream",
          "text": [
            "\n",
            "Extracting ../data/MNIST/raw/train-labels-idx1-ubyte.gz to ../data/MNIST/raw\n",
            "Downloading http://yann.lecun.com/exdb/mnist/t10k-images-idx3-ubyte.gz to ../data/MNIST/raw/t10k-images-idx3-ubyte.gz\n"
          ],
          "name": "stdout"
        },
        {
          "output_type": "display_data",
          "data": {
            "application/vnd.jupyter.widget-view+json": {
              "model_id": "32eb5f9323e142f5a2934cab7e3330cc",
              "version_minor": 0,
              "version_major": 2
            },
            "text/plain": [
              "HBox(children=(FloatProgress(value=0.0, max=1648877.0), HTML(value='')))"
            ]
          },
          "metadata": {
            "tags": []
          }
        },
        {
          "output_type": "stream",
          "text": [
            "\n",
            "Extracting ../data/MNIST/raw/t10k-images-idx3-ubyte.gz to ../data/MNIST/raw\n",
            "Downloading http://yann.lecun.com/exdb/mnist/t10k-labels-idx1-ubyte.gz to ../data/MNIST/raw/t10k-labels-idx1-ubyte.gz\n"
          ],
          "name": "stdout"
        },
        {
          "output_type": "display_data",
          "data": {
            "application/vnd.jupyter.widget-view+json": {
              "model_id": "54989cfece304330b494392d37430f51",
              "version_minor": 0,
              "version_major": 2
            },
            "text/plain": [
              "HBox(children=(FloatProgress(value=0.0, max=4542.0), HTML(value='')))"
            ]
          },
          "metadata": {
            "tags": []
          }
        },
        {
          "output_type": "stream",
          "text": [
            "\n",
            "Extracting ../data/MNIST/raw/t10k-labels-idx1-ubyte.gz to ../data/MNIST/raw\n",
            "Processing...\n",
            "Done!\n"
          ],
          "name": "stdout"
        },
        {
          "output_type": "stream",
          "text": [
            "/usr/local/lib/python3.7/dist-packages/torchvision/datasets/mnist.py:479: UserWarning: The given NumPy array is not writeable, and PyTorch does not support non-writeable tensors. This means you can write to the underlying (supposedly non-writeable) NumPy array using the tensor. You may want to copy the array to protect its data or make it writeable before converting it to a tensor. This type of warning will be suppressed for the rest of this program. (Triggered internally at  /pytorch/torch/csrc/utils/tensor_numpy.cpp:143.)\n",
            "  return torch.from_numpy(parsed.astype(m[2], copy=False)).view(*s)\n"
          ],
          "name": "stderr"
        }
      ]
    },
    {
      "cell_type": "code",
      "metadata": {
        "id": "StxdnAecl_pb"
      },
      "source": [
        "#Model\n",
        "class MLPNet(nn.Module):\n",
        "  def __init__(self):\n",
        "    super(MLPNet,self).__init__()\n",
        "    self.layer1=nn.Linear(784,512)\n",
        "    self.layer2=nn.Linear(512,256)\n",
        "    self.layer3=nn.Linear(256,128)\n",
        "    self.layer4=nn.Linear(128,64)\n",
        "    self.layer5=nn.Linear(64,32)\n",
        "    self.layer6=nn.Linear(32,10)\n",
        "  \n",
        "  def forward(self,x):\n",
        "    x = x.float()\n",
        "    h1 = F.relu(self.layer1(x.view(-1, 784)))\n",
        "    h2 = F.relu(self.layer2(h1))\n",
        "    h3 = F.relu(self.layer3(h2))\n",
        "    h4 = F.relu(self.layer4(h3))\n",
        "    h5 = F.relu(self.layer5(h4))\n",
        "    h6 = self.layer6(h5)\n",
        "    return F.log_softmax(h6, dim=1)"
      ],
      "execution_count": 4,
      "outputs": []
    },
    {
      "cell_type": "code",
      "metadata": {
        "colab": {
          "base_uri": "https://localhost:8080/"
        },
        "id": "zoJkZjX_olQ0",
        "outputId": "74b52235-e508-410d-cb4a-42b08d5c8309"
      },
      "source": [
        "model = MLPNet().to(device)\n",
        "optimizer = optim.SGD(model.parameters(), lr=lr, momentum=momentum)\n",
        "criterion=nn.CrossEntropyLoss()\n",
        "\n",
        "for batch_idx, (data, target) in enumerate(train_loader):\n",
        "  print(target)\n",
        "  print(data)\n",
        "  break\n"
      ],
      "execution_count": 5,
      "outputs": [
        {
          "output_type": "stream",
          "text": [
            "tensor([8, 6, 6, 9, 5, 7, 4, 6, 6, 1, 5, 7, 5, 2, 9, 6, 3, 6, 8, 6, 9, 3, 2, 0,\n",
            "        8, 7, 4, 6, 6, 4, 8, 7, 4, 9, 1, 9, 7, 8, 9, 9, 5, 5, 8, 3, 2, 4, 3, 0,\n",
            "        4, 9, 2, 6, 2, 3, 6, 5, 4, 3, 5, 9, 5, 4, 4, 8])\n",
            "tensor([[[[0., 0., 0.,  ..., 0., 0., 0.],\n",
            "          [0., 0., 0.,  ..., 0., 0., 0.],\n",
            "          [0., 0., 0.,  ..., 0., 0., 0.],\n",
            "          ...,\n",
            "          [0., 0., 0.,  ..., 0., 0., 0.],\n",
            "          [0., 0., 0.,  ..., 0., 0., 0.],\n",
            "          [0., 0., 0.,  ..., 0., 0., 0.]]],\n",
            "\n",
            "\n",
            "        [[[0., 0., 0.,  ..., 0., 0., 0.],\n",
            "          [0., 0., 0.,  ..., 0., 0., 0.],\n",
            "          [0., 0., 0.,  ..., 0., 0., 0.],\n",
            "          ...,\n",
            "          [0., 0., 0.,  ..., 0., 0., 0.],\n",
            "          [0., 0., 0.,  ..., 0., 0., 0.],\n",
            "          [0., 0., 0.,  ..., 0., 0., 0.]]],\n",
            "\n",
            "\n",
            "        [[[0., 0., 0.,  ..., 0., 0., 0.],\n",
            "          [0., 0., 0.,  ..., 0., 0., 0.],\n",
            "          [0., 0., 0.,  ..., 0., 0., 0.],\n",
            "          ...,\n",
            "          [0., 0., 0.,  ..., 0., 0., 0.],\n",
            "          [0., 0., 0.,  ..., 0., 0., 0.],\n",
            "          [0., 0., 0.,  ..., 0., 0., 0.]]],\n",
            "\n",
            "\n",
            "        ...,\n",
            "\n",
            "\n",
            "        [[[0., 0., 0.,  ..., 0., 0., 0.],\n",
            "          [0., 0., 0.,  ..., 0., 0., 0.],\n",
            "          [0., 0., 0.,  ..., 0., 0., 0.],\n",
            "          ...,\n",
            "          [0., 0., 0.,  ..., 0., 0., 0.],\n",
            "          [0., 0., 0.,  ..., 0., 0., 0.],\n",
            "          [0., 0., 0.,  ..., 0., 0., 0.]]],\n",
            "\n",
            "\n",
            "        [[[0., 0., 0.,  ..., 0., 0., 0.],\n",
            "          [0., 0., 0.,  ..., 0., 0., 0.],\n",
            "          [0., 0., 0.,  ..., 0., 0., 0.],\n",
            "          ...,\n",
            "          [0., 0., 0.,  ..., 0., 0., 0.],\n",
            "          [0., 0., 0.,  ..., 0., 0., 0.],\n",
            "          [0., 0., 0.,  ..., 0., 0., 0.]]],\n",
            "\n",
            "\n",
            "        [[[0., 0., 0.,  ..., 0., 0., 0.],\n",
            "          [0., 0., 0.,  ..., 0., 0., 0.],\n",
            "          [0., 0., 0.,  ..., 0., 0., 0.],\n",
            "          ...,\n",
            "          [0., 0., 0.,  ..., 0., 0., 0.],\n",
            "          [0., 0., 0.,  ..., 0., 0., 0.],\n",
            "          [0., 0., 0.,  ..., 0., 0., 0.]]]])\n"
          ],
          "name": "stdout"
        }
      ]
    },
    {
      "cell_type": "code",
      "metadata": {
        "id": "CstFcbOipBKm"
      },
      "source": [
        "\n",
        "def train(interval, model, device, train_loader, optimizer, epoch):\n",
        "    model.train()\n",
        "    for batch_idx, (data, target) in enumerate(train_loader):\n",
        "        data, target = data.to(device), target.to(device)\n",
        "        optimizer.zero_grad()\n",
        "        output = model(data)\n",
        "        loss = criterion(output, target)\n",
        "        loss.backward()\n",
        "        optimizer.step()\n",
        "        if batch_idx % interval == 0:\n",
        "            print('Train Epoch: {} [{}/{} ({:.0f}%)]\\tLoss: {:.6f}'.format(\n",
        "                epoch, batch_idx * len(data), len(train_loader.dataset),\n",
        "                100. * batch_idx / len(train_loader), loss.item()))\n",
        "\n",
        "def test(log_interval, model, device, test_loader,result,epoch):\n",
        "    model.eval()\n",
        "    test_loss = 0\n",
        "    correct = 0\n",
        "    with torch.no_grad():\n",
        "        for data, target in test_loader:\n",
        "            data, target = data.to(device), target.to(device)\n",
        "            output = model(data)\n",
        "            test_loss += criterion(output, target).item() \n",
        "            pred = output.argmax(dim=1, keepdim=True)\n",
        "            correct += pred.eq(target.view_as(pred)).sum().item()\n",
        "\n",
        "    test_loss /= len(test_loader.dataset)\n",
        "\n",
        "    result[epoch]={'Accuracy':correct/len(test_loader.dataset),'Loss':test_loss}\n",
        "\n",
        "    print('\\nTest set: Average loss: {:.4f}, Accuracy: {}/{} ({:.0f}%)\\n'.format\n",
        "          (test_loss, correct, len(test_loader.dataset),\n",
        "        100. * correct / len(test_loader.dataset)))\n",
        "    return result"
      ],
      "execution_count": 6,
      "outputs": []
    },
    {
      "cell_type": "code",
      "metadata": {
        "colab": {
          "base_uri": "https://localhost:8080/"
        },
        "id": "Bv-5jp4WrbnP",
        "outputId": "be66ec29-2029-43a2-c7e5-de0a2484668c"
      },
      "source": [
        "result={}\n",
        "for epoch in range(1, epochs):\n",
        "    train(interval, model, device, train_loader, optimizer, epoch)\n",
        "    result=test(interval, model, device, test_loader,result,epoch)"
      ],
      "execution_count": 7,
      "outputs": [
        {
          "output_type": "stream",
          "text": [
            "Train Epoch: 1 [0/60000 (0%)]\tLoss: 2.300617\n",
            "Train Epoch: 1 [6400/60000 (11%)]\tLoss: 2.293755\n",
            "Train Epoch: 1 [12800/60000 (21%)]\tLoss: 2.313763\n",
            "Train Epoch: 1 [19200/60000 (32%)]\tLoss: 2.304909\n",
            "Train Epoch: 1 [25600/60000 (43%)]\tLoss: 2.300399\n",
            "Train Epoch: 1 [32000/60000 (53%)]\tLoss: 2.301080\n",
            "Train Epoch: 1 [38400/60000 (64%)]\tLoss: 2.298288\n",
            "Train Epoch: 1 [44800/60000 (75%)]\tLoss: 2.292444\n",
            "Train Epoch: 1 [51200/60000 (85%)]\tLoss: 2.296098\n",
            "Train Epoch: 1 [57600/60000 (96%)]\tLoss: 2.300101\n",
            "\n",
            "Test set: Average loss: 0.0360, Accuracy: 1135/10000 (11%)\n",
            "\n",
            "Train Epoch: 2 [0/60000 (0%)]\tLoss: 2.293174\n",
            "Train Epoch: 2 [6400/60000 (11%)]\tLoss: 2.286458\n",
            "Train Epoch: 2 [12800/60000 (21%)]\tLoss: 2.276649\n",
            "Train Epoch: 2 [19200/60000 (32%)]\tLoss: 2.282763\n",
            "Train Epoch: 2 [25600/60000 (43%)]\tLoss: 2.278028\n",
            "Train Epoch: 2 [32000/60000 (53%)]\tLoss: 2.250646\n",
            "Train Epoch: 2 [38400/60000 (64%)]\tLoss: 2.238316\n",
            "Train Epoch: 2 [44800/60000 (75%)]\tLoss: 2.146488\n",
            "Train Epoch: 2 [51200/60000 (85%)]\tLoss: 2.000012\n",
            "Train Epoch: 2 [57600/60000 (96%)]\tLoss: 1.783510\n",
            "\n",
            "Test set: Average loss: 0.0278, Accuracy: 4155/10000 (42%)\n",
            "\n",
            "Train Epoch: 3 [0/60000 (0%)]\tLoss: 1.722778\n",
            "Train Epoch: 3 [6400/60000 (11%)]\tLoss: 1.159765\n",
            "Train Epoch: 3 [12800/60000 (21%)]\tLoss: 1.206144\n",
            "Train Epoch: 3 [19200/60000 (32%)]\tLoss: 1.158607\n",
            "Train Epoch: 3 [25600/60000 (43%)]\tLoss: 0.846072\n",
            "Train Epoch: 3 [32000/60000 (53%)]\tLoss: 1.131170\n",
            "Train Epoch: 3 [38400/60000 (64%)]\tLoss: 0.601130\n",
            "Train Epoch: 3 [44800/60000 (75%)]\tLoss: 0.773564\n",
            "Train Epoch: 3 [51200/60000 (85%)]\tLoss: 0.688155\n",
            "Train Epoch: 3 [57600/60000 (96%)]\tLoss: 0.703525\n",
            "\n",
            "Test set: Average loss: 0.0078, Accuracy: 8499/10000 (85%)\n",
            "\n",
            "Train Epoch: 4 [0/60000 (0%)]\tLoss: 0.537631\n",
            "Train Epoch: 4 [6400/60000 (11%)]\tLoss: 0.276733\n",
            "Train Epoch: 4 [12800/60000 (21%)]\tLoss: 0.514878\n",
            "Train Epoch: 4 [19200/60000 (32%)]\tLoss: 0.601548\n",
            "Train Epoch: 4 [25600/60000 (43%)]\tLoss: 0.647365\n",
            "Train Epoch: 4 [32000/60000 (53%)]\tLoss: 0.280886\n",
            "Train Epoch: 4 [38400/60000 (64%)]\tLoss: 0.437977\n",
            "Train Epoch: 4 [44800/60000 (75%)]\tLoss: 0.503481\n",
            "Train Epoch: 4 [51200/60000 (85%)]\tLoss: 0.285208\n",
            "Train Epoch: 4 [57600/60000 (96%)]\tLoss: 0.411900\n",
            "\n",
            "Test set: Average loss: 0.0051, Accuracy: 9077/10000 (91%)\n",
            "\n",
            "Train Epoch: 5 [0/60000 (0%)]\tLoss: 0.230862\n",
            "Train Epoch: 5 [6400/60000 (11%)]\tLoss: 0.149576\n",
            "Train Epoch: 5 [12800/60000 (21%)]\tLoss: 0.315147\n",
            "Train Epoch: 5 [19200/60000 (32%)]\tLoss: 0.309496\n",
            "Train Epoch: 5 [25600/60000 (43%)]\tLoss: 0.156944\n",
            "Train Epoch: 5 [32000/60000 (53%)]\tLoss: 0.314201\n",
            "Train Epoch: 5 [38400/60000 (64%)]\tLoss: 0.251890\n",
            "Train Epoch: 5 [44800/60000 (75%)]\tLoss: 0.409259\n",
            "Train Epoch: 5 [51200/60000 (85%)]\tLoss: 0.144046\n",
            "Train Epoch: 5 [57600/60000 (96%)]\tLoss: 0.131479\n",
            "\n",
            "Test set: Average loss: 0.0038, Accuracy: 9344/10000 (93%)\n",
            "\n",
            "Train Epoch: 6 [0/60000 (0%)]\tLoss: 0.248076\n",
            "Train Epoch: 6 [6400/60000 (11%)]\tLoss: 0.175275\n",
            "Train Epoch: 6 [12800/60000 (21%)]\tLoss: 0.199709\n",
            "Train Epoch: 6 [19200/60000 (32%)]\tLoss: 0.274701\n",
            "Train Epoch: 6 [25600/60000 (43%)]\tLoss: 0.044327\n",
            "Train Epoch: 6 [32000/60000 (53%)]\tLoss: 0.219332\n",
            "Train Epoch: 6 [38400/60000 (64%)]\tLoss: 0.157397\n",
            "Train Epoch: 6 [44800/60000 (75%)]\tLoss: 0.141840\n",
            "Train Epoch: 6 [51200/60000 (85%)]\tLoss: 0.149305\n",
            "Train Epoch: 6 [57600/60000 (96%)]\tLoss: 0.286092\n",
            "\n",
            "Test set: Average loss: 0.0034, Accuracy: 9408/10000 (94%)\n",
            "\n",
            "Train Epoch: 7 [0/60000 (0%)]\tLoss: 0.264744\n",
            "Train Epoch: 7 [6400/60000 (11%)]\tLoss: 0.061737\n",
            "Train Epoch: 7 [12800/60000 (21%)]\tLoss: 0.063130\n",
            "Train Epoch: 7 [19200/60000 (32%)]\tLoss: 0.063153\n",
            "Train Epoch: 7 [25600/60000 (43%)]\tLoss: 0.131316\n",
            "Train Epoch: 7 [32000/60000 (53%)]\tLoss: 0.078737\n",
            "Train Epoch: 7 [38400/60000 (64%)]\tLoss: 0.068036\n",
            "Train Epoch: 7 [44800/60000 (75%)]\tLoss: 0.236588\n",
            "Train Epoch: 7 [51200/60000 (85%)]\tLoss: 0.063912\n",
            "Train Epoch: 7 [57600/60000 (96%)]\tLoss: 0.218313\n",
            "\n",
            "Test set: Average loss: 0.0026, Accuracy: 9543/10000 (95%)\n",
            "\n",
            "Train Epoch: 8 [0/60000 (0%)]\tLoss: 0.132677\n",
            "Train Epoch: 8 [6400/60000 (11%)]\tLoss: 0.055747\n",
            "Train Epoch: 8 [12800/60000 (21%)]\tLoss: 0.150928\n",
            "Train Epoch: 8 [19200/60000 (32%)]\tLoss: 0.119073\n",
            "Train Epoch: 8 [25600/60000 (43%)]\tLoss: 0.078060\n",
            "Train Epoch: 8 [32000/60000 (53%)]\tLoss: 0.097528\n",
            "Train Epoch: 8 [38400/60000 (64%)]\tLoss: 0.086892\n",
            "Train Epoch: 8 [44800/60000 (75%)]\tLoss: 0.148815\n",
            "Train Epoch: 8 [51200/60000 (85%)]\tLoss: 0.047366\n",
            "Train Epoch: 8 [57600/60000 (96%)]\tLoss: 0.136283\n",
            "\n",
            "Test set: Average loss: 0.0025, Accuracy: 9547/10000 (95%)\n",
            "\n",
            "Train Epoch: 9 [0/60000 (0%)]\tLoss: 0.136140\n",
            "Train Epoch: 9 [6400/60000 (11%)]\tLoss: 0.208257\n",
            "Train Epoch: 9 [12800/60000 (21%)]\tLoss: 0.073144\n",
            "Train Epoch: 9 [19200/60000 (32%)]\tLoss: 0.134477\n",
            "Train Epoch: 9 [25600/60000 (43%)]\tLoss: 0.125065\n",
            "Train Epoch: 9 [32000/60000 (53%)]\tLoss: 0.135698\n",
            "Train Epoch: 9 [38400/60000 (64%)]\tLoss: 0.097116\n",
            "Train Epoch: 9 [44800/60000 (75%)]\tLoss: 0.124597\n",
            "Train Epoch: 9 [51200/60000 (85%)]\tLoss: 0.114721\n",
            "Train Epoch: 9 [57600/60000 (96%)]\tLoss: 0.044808\n",
            "\n",
            "Test set: Average loss: 0.0020, Accuracy: 9619/10000 (96%)\n",
            "\n"
          ],
          "name": "stdout"
        }
      ]
    },
    {
      "cell_type": "code",
      "metadata": {
        "colab": {
          "base_uri": "https://localhost:8080/"
        },
        "id": "QihAG9WAcL0d",
        "outputId": "e1cf3c3e-c3bb-4a5b-af51-7bc46d0594ff"
      },
      "source": [
        "result"
      ],
      "execution_count": 8,
      "outputs": [
        {
          "output_type": "execute_result",
          "data": {
            "text/plain": [
              "{1: {'Accuracy': 0.1135, 'Loss': 0.03601445062160492},\n",
              " 2: {'Accuracy': 0.4155, 'Loss': 0.027807666373252868},\n",
              " 3: {'Accuracy': 0.8499, 'Loss': 0.007781077781319618},\n",
              " 4: {'Accuracy': 0.9077, 'Loss': 0.005105550207942724},\n",
              " 5: {'Accuracy': 0.9344, 'Loss': 0.003781666628271341},\n",
              " 6: {'Accuracy': 0.9408, 'Loss': 0.0033857502903789282},\n",
              " 7: {'Accuracy': 0.9543, 'Loss': 0.00260479059019126},\n",
              " 8: {'Accuracy': 0.9547, 'Loss': 0.0024536542074754834},\n",
              " 9: {'Accuracy': 0.9619, 'Loss': 0.0019742647127248348}}"
            ]
          },
          "metadata": {
            "tags": []
          },
          "execution_count": 8
        }
      ]
    },
    {
      "cell_type": "code",
      "metadata": {
        "id": "TwqFZ1iqFHyd"
      },
      "source": [
        "epoch=[k for k in range(1,10)]\n",
        "acc=[result[i]['Accuracy'] for i in epoch ]\n",
        "loss=[result[i]['Loss'] for i in epoch ]"
      ],
      "execution_count": 9,
      "outputs": []
    },
    {
      "cell_type": "code",
      "metadata": {
        "colab": {
          "base_uri": "https://localhost:8080/",
          "height": 295
        },
        "id": "mQCVcU_AF6z0",
        "outputId": "05bbe7aa-e1ed-4f72-fdf9-baad7a7fa41d"
      },
      "source": [
        "plt.plot(epoch,acc)\n",
        "plt.xlabel('Epoch')\n",
        "plt.yticks(np.arange(0.1, 1, step=0.05))\n",
        "plt.ylabel('Accuracy')\n",
        "plt.title('100% data train epoch&acc')\n",
        "plt.show()"
      ],
      "execution_count": 17,
      "outputs": [
        {
          "output_type": "display_data",
          "data": {
            "image/png": "[encoded data removed]",
            "text/plain": [
              "<Figure size 432x288 with 1 Axes>"
            ]
          },
          "metadata": {
            "tags": [],
            "needs_background": "light"
          }
        }
      ]
    },
    {
      "cell_type": "code",
      "metadata": {
        "colab": {
          "base_uri": "https://localhost:8080/",
          "height": 295
        },
        "id": "TyNBIuxFGDaX",
        "outputId": "7a56cb26-9cc1-470d-976c-26fbe04e5e17"
      },
      "source": [
        "plt.plot(epoch,loss)\n",
        "plt.xlabel('Epoch')\n",
        "plt.ylabel('loss')\n",
        "plt.yticks(np.arange(0.05, 0, step=-0.005))\n",
        "plt.title('100% data train epoch&loss')\n",
        "plt.show()"
      ],
      "execution_count": 19,
      "outputs": [
        {
          "output_type": "display_data",
          "data": {
            "image/png": "[encoded data removed]",
            "text/plain": [
              "<Figure size 432x288 with 1 Axes>"
            ]
          },
          "metadata": {
            "tags": [],
            "needs_background": "light"
          }
        }
      ]
    },
    {
      "cell_type": "code",
      "metadata": {
        "id": "494K_T1nGL1X"
      },
      "source": [
        "model = MLPNet().to(device)\n",
        "optimizer = optim.SGD(model.parameters(), lr=lr, momentum=momentum)\n",
        "criterion=nn.CrossEntropyLoss()\n",
        "\n",
        "def train025(interval, model, device, train_loader, optimizer, epoch):\n",
        "    model.train()\n",
        "    for batch_idx, (data, target) in enumerate(train_loader):\n",
        "      if batch_idx * len(data)> len(train_loader.dataset)*0.25:\n",
        "        break\n",
        "      data, target = data.to(device), target.to(device)\n",
        "      optimizer.zero_grad()\n",
        "      output = model(data)\n",
        "      loss = criterion(output, target)\n",
        "      loss.backward()\n",
        "      optimizer.step()\n",
        "      if batch_idx % interval == 0:\n",
        "          print('Train Epoch: {} [{}/{} ({:.0f}%)]\\tLoss: {:.6f}'.format(\n",
        "              epoch, batch_idx * len(data), len(train_loader.dataset),\n",
        "              100. * batch_idx / len(train_loader), loss.item()))\n",
        "        "
      ],
      "execution_count": 20,
      "outputs": []
    },
    {
      "cell_type": "code",
      "metadata": {
        "colab": {
          "base_uri": "https://localhost:8080/"
        },
        "id": "XpiIhuIdGxei",
        "outputId": "247403b1-5dae-4db5-b39b-1a0a65371065"
      },
      "source": [
        "\n",
        "result={}\n",
        "for epoch in range(1, epochs):\n",
        "    train025(interval, model, device, train_loader, optimizer, epoch)\n",
        "    result=test(interval, model, device, test_loader,result,epoch)"
      ],
      "execution_count": 21,
      "outputs": [
        {
          "output_type": "stream",
          "text": [
            "Train Epoch: 1 [0/60000 (0%)]\tLoss: 2.297261\n",
            "Train Epoch: 1 [6400/60000 (11%)]\tLoss: 2.304177\n",
            "Train Epoch: 1 [12800/60000 (21%)]\tLoss: 2.318357\n",
            "\n",
            "Test set: Average loss: 0.0361, Accuracy: 1028/10000 (10%)\n",
            "\n",
            "Train Epoch: 2 [0/60000 (0%)]\tLoss: 2.312802\n",
            "Train Epoch: 2 [6400/60000 (11%)]\tLoss: 2.296464\n",
            "Train Epoch: 2 [12800/60000 (21%)]\tLoss: 2.294103\n",
            "\n",
            "Test set: Average loss: 0.0361, Accuracy: 1135/10000 (11%)\n",
            "\n",
            "Train Epoch: 3 [0/60000 (0%)]\tLoss: 2.292698\n",
            "Train Epoch: 3 [6400/60000 (11%)]\tLoss: 2.290731\n",
            "Train Epoch: 3 [12800/60000 (21%)]\tLoss: 2.300493\n",
            "\n",
            "Test set: Average loss: 0.0361, Accuracy: 1174/10000 (12%)\n",
            "\n",
            "Train Epoch: 4 [0/60000 (0%)]\tLoss: 2.296150\n",
            "Train Epoch: 4 [6400/60000 (11%)]\tLoss: 2.288635\n",
            "Train Epoch: 4 [12800/60000 (21%)]\tLoss: 2.295259\n",
            "\n",
            "Test set: Average loss: 0.0360, Accuracy: 1135/10000 (11%)\n",
            "\n",
            "Train Epoch: 5 [0/60000 (0%)]\tLoss: 2.294561\n",
            "Train Epoch: 5 [6400/60000 (11%)]\tLoss: 2.287276\n",
            "Train Epoch: 5 [12800/60000 (21%)]\tLoss: 2.303728\n",
            "\n",
            "Test set: Average loss: 0.0360, Accuracy: 1135/10000 (11%)\n",
            "\n",
            "Train Epoch: 6 [0/60000 (0%)]\tLoss: 2.285081\n",
            "Train Epoch: 6 [6400/60000 (11%)]\tLoss: 2.287754\n",
            "Train Epoch: 6 [12800/60000 (21%)]\tLoss: 2.276668\n",
            "\n",
            "Test set: Average loss: 0.0358, Accuracy: 1196/10000 (12%)\n",
            "\n",
            "Train Epoch: 7 [0/60000 (0%)]\tLoss: 2.271250\n",
            "Train Epoch: 7 [6400/60000 (11%)]\tLoss: 2.263557\n",
            "Train Epoch: 7 [12800/60000 (21%)]\tLoss: 2.251596\n",
            "\n",
            "Test set: Average loss: 0.0349, Accuracy: 2961/10000 (30%)\n",
            "\n",
            "Train Epoch: 8 [0/60000 (0%)]\tLoss: 2.195066\n",
            "Train Epoch: 8 [6400/60000 (11%)]\tLoss: 2.094755\n",
            "Train Epoch: 8 [12800/60000 (21%)]\tLoss: 1.870281\n",
            "\n",
            "Test set: Average loss: 0.0291, Accuracy: 3081/10000 (31%)\n",
            "\n",
            "Train Epoch: 9 [0/60000 (0%)]\tLoss: 1.924064\n",
            "Train Epoch: 9 [6400/60000 (11%)]\tLoss: 1.664405\n",
            "Train Epoch: 9 [12800/60000 (21%)]\tLoss: 1.382337\n",
            "\n",
            "Test set: Average loss: 0.0193, Accuracy: 6144/10000 (61%)\n",
            "\n"
          ],
          "name": "stdout"
        }
      ]
    },
    {
      "cell_type": "code",
      "metadata": {
        "id": "oRnHD2yfLsIl"
      },
      "source": [
        "epoch=[k for k in range(1,10)]\n",
        "acc=[result[i]['Accuracy'] for i in epoch ]\n",
        "loss=[result[i]['Loss'] for i in epoch ]"
      ],
      "execution_count": 22,
      "outputs": []
    },
    {
      "cell_type": "code",
      "metadata": {
        "colab": {
          "base_uri": "https://localhost:8080/",
          "height": 295
        },
        "id": "lgCO10BcOyfy",
        "outputId": "f1b06d22-a5c3-4f58-94eb-9eb4e0494ddb"
      },
      "source": [
        "plt.plot(epoch,acc)\n",
        "plt.xlabel('Epoch')\n",
        "plt.ylabel('Accuracy')\n",
        "plt.yticks(np.arange(0.1, 1, step=0.05))\n",
        "plt.title('25% data train epoch&acc')\n",
        "plt.show()"
      ],
      "execution_count": 23,
      "outputs": [
        {
          "output_type": "display_data",
          "data": {
            "image/png": "[encoded data removed]",
            "text/plain": [
              "<Figure size 432x288 with 1 Axes>"
            ]
          },
          "metadata": {
            "tags": [],
            "needs_background": "light"
          }
        }
      ]
    },
    {
      "cell_type": "code",
      "metadata": {
        "colab": {
          "base_uri": "https://localhost:8080/",
          "height": 295
        },
        "id": "JxfWtecnOy-j",
        "outputId": "39065c4d-63aa-48d9-b1b3-16a19fb18a21"
      },
      "source": [
        "plt.plot(epoch,loss)\n",
        "plt.xlabel('Epoch')\n",
        "plt.ylabel('loss')\n",
        "plt.yticks(np.arange(0.05, 0, step=-0.005))\n",
        "plt.title('25% data train epoch&loss')\n",
        "plt.show()"
      ],
      "execution_count": 24,
      "outputs": [
        {
          "output_type": "display_data",
          "data": {
            "image/png": "[encoded data removed]",
            "text/plain": [
              "<Figure size 432x288 with 1 Axes>"
            ]
          },
          "metadata": {
            "tags": [],
            "needs_background": "light"
          }
        }
      ]
    },
    {
      "cell_type": "code",
      "metadata": {
        "id": "wcLRenAvO2aH"
      },
      "source": [
        "model = MLPNet().to(device)\n",
        "optimizer = optim.SGD(model.parameters(), lr=lr, momentum=momentum)\n",
        "criterion=nn.CrossEntropyLoss()\n",
        "\n",
        "def train050(interval, model, device, train_loader, optimizer, epoch):\n",
        "    model.train()\n",
        "    for batch_idx, (data, target) in enumerate(train_loader):\n",
        "      if batch_idx * len(data)> len(train_loader.dataset)*0.50:\n",
        "        break\n",
        "      data, target = data.to(device), target.to(device)\n",
        "      optimizer.zero_grad()\n",
        "      output = model(data)\n",
        "      loss = criterion(output, target)\n",
        "      loss.backward()\n",
        "      optimizer.step()\n",
        "      if batch_idx % interval == 0:\n",
        "          print('Train Epoch: {} [{}/{} ({:.0f}%)]\\tLoss: {:.6f}'.format(\n",
        "              epoch, batch_idx * len(data), len(train_loader.dataset),\n",
        "              100. * batch_idx / len(train_loader), loss.item()))\n",
        "        "
      ],
      "execution_count": 25,
      "outputs": []
    },
    {
      "cell_type": "code",
      "metadata": {
        "colab": {
          "base_uri": "https://localhost:8080/"
        },
        "id": "fqOPbGkLO-OE",
        "outputId": "c62891cf-519a-49e8-ce55-6205f17c2fd4"
      },
      "source": [
        "\n",
        "result={}\n",
        "for epoch in range(1, epochs):\n",
        "    train050(interval, model, device, train_loader, optimizer, epoch)\n",
        "    result=test(interval, model, device, test_loader,result,epoch)"
      ],
      "execution_count": 26,
      "outputs": [
        {
          "output_type": "stream",
          "text": [
            "Train Epoch: 1 [0/60000 (0%)]\tLoss: 2.294699\n",
            "Train Epoch: 1 [6400/60000 (11%)]\tLoss: 2.302011\n",
            "Train Epoch: 1 [12800/60000 (21%)]\tLoss: 2.303606\n",
            "Train Epoch: 1 [19200/60000 (32%)]\tLoss: 2.289904\n",
            "Train Epoch: 1 [25600/60000 (43%)]\tLoss: 2.298384\n",
            "\n",
            "Test set: Average loss: 0.0361, Accuracy: 1135/10000 (11%)\n",
            "\n",
            "Train Epoch: 2 [0/60000 (0%)]\tLoss: 2.299600\n",
            "Train Epoch: 2 [6400/60000 (11%)]\tLoss: 2.297379\n",
            "Train Epoch: 2 [12800/60000 (21%)]\tLoss: 2.289841\n",
            "Train Epoch: 2 [19200/60000 (32%)]\tLoss: 2.295031\n",
            "Train Epoch: 2 [25600/60000 (43%)]\tLoss: 2.299431\n",
            "\n",
            "Test set: Average loss: 0.0359, Accuracy: 1135/10000 (11%)\n",
            "\n",
            "Train Epoch: 3 [0/60000 (0%)]\tLoss: 2.287553\n",
            "Train Epoch: 3 [6400/60000 (11%)]\tLoss: 2.294701\n",
            "Train Epoch: 3 [12800/60000 (21%)]\tLoss: 2.272957\n",
            "Train Epoch: 3 [19200/60000 (32%)]\tLoss: 2.252647\n",
            "Train Epoch: 3 [25600/60000 (43%)]\tLoss: 2.216244\n",
            "\n",
            "Test set: Average loss: 0.0341, Accuracy: 3473/10000 (35%)\n",
            "\n",
            "Train Epoch: 4 [0/60000 (0%)]\tLoss: 2.158775\n",
            "Train Epoch: 4 [6400/60000 (11%)]\tLoss: 2.030599\n",
            "Train Epoch: 4 [12800/60000 (21%)]\tLoss: 1.673668\n",
            "Train Epoch: 4 [19200/60000 (32%)]\tLoss: 1.468804\n",
            "Train Epoch: 4 [25600/60000 (43%)]\tLoss: 1.160191\n",
            "\n",
            "Test set: Average loss: 0.0174, Accuracy: 6080/10000 (61%)\n",
            "\n",
            "Train Epoch: 5 [0/60000 (0%)]\tLoss: 1.282643\n",
            "Train Epoch: 5 [6400/60000 (11%)]\tLoss: 0.981202\n",
            "Train Epoch: 5 [12800/60000 (21%)]\tLoss: 1.117916\n",
            "Train Epoch: 5 [19200/60000 (32%)]\tLoss: 0.646040\n",
            "Train Epoch: 5 [25600/60000 (43%)]\tLoss: 0.821387\n",
            "\n",
            "Test set: Average loss: 0.0112, Accuracy: 7849/10000 (78%)\n",
            "\n",
            "Train Epoch: 6 [0/60000 (0%)]\tLoss: 0.791930\n",
            "Train Epoch: 6 [6400/60000 (11%)]\tLoss: 0.727989\n",
            "Train Epoch: 6 [12800/60000 (21%)]\tLoss: 0.685343\n",
            "Train Epoch: 6 [19200/60000 (32%)]\tLoss: 0.325453\n",
            "Train Epoch: 6 [25600/60000 (43%)]\tLoss: 0.520412\n",
            "\n",
            "Test set: Average loss: 0.0077, Accuracy: 8580/10000 (86%)\n",
            "\n",
            "Train Epoch: 7 [0/60000 (0%)]\tLoss: 0.361769\n",
            "Train Epoch: 7 [6400/60000 (11%)]\tLoss: 0.491955\n",
            "Train Epoch: 7 [12800/60000 (21%)]\tLoss: 0.308029\n",
            "Train Epoch: 7 [19200/60000 (32%)]\tLoss: 0.136737\n",
            "Train Epoch: 7 [25600/60000 (43%)]\tLoss: 0.552968\n",
            "\n",
            "Test set: Average loss: 0.0058, Accuracy: 8978/10000 (90%)\n",
            "\n",
            "Train Epoch: 8 [0/60000 (0%)]\tLoss: 0.213542\n",
            "Train Epoch: 8 [6400/60000 (11%)]\tLoss: 0.106993\n",
            "Train Epoch: 8 [12800/60000 (21%)]\tLoss: 0.260566\n",
            "Train Epoch: 8 [19200/60000 (32%)]\tLoss: 0.469570\n",
            "Train Epoch: 8 [25600/60000 (43%)]\tLoss: 0.247123\n",
            "\n",
            "Test set: Average loss: 0.0042, Accuracy: 9269/10000 (93%)\n",
            "\n",
            "Train Epoch: 9 [0/60000 (0%)]\tLoss: 0.113448\n",
            "Train Epoch: 9 [6400/60000 (11%)]\tLoss: 0.225797\n",
            "Train Epoch: 9 [12800/60000 (21%)]\tLoss: 0.104084\n",
            "Train Epoch: 9 [19200/60000 (32%)]\tLoss: 0.215111\n",
            "Train Epoch: 9 [25600/60000 (43%)]\tLoss: 0.167574\n",
            "\n",
            "Test set: Average loss: 0.0035, Accuracy: 9391/10000 (94%)\n",
            "\n"
          ],
          "name": "stdout"
        }
      ]
    },
    {
      "cell_type": "code",
      "metadata": {
        "id": "bwTvdOH7PBDW"
      },
      "source": [
        "epoch=[k for k in range(1,10)]\n",
        "acc=[result[i]['Accuracy'] for i in epoch ]\n",
        "loss=[result[i]['Loss'] for i in epoch ]"
      ],
      "execution_count": 27,
      "outputs": []
    },
    {
      "cell_type": "code",
      "metadata": {
        "colab": {
          "base_uri": "https://localhost:8080/",
          "height": 295
        },
        "id": "4Sw-2IkcPIbq",
        "outputId": "d6a60934-0e2c-4dd7-81ae-4f426490a744"
      },
      "source": [
        "plt.plot(epoch,acc)\n",
        "plt.xlabel('Epoch')\n",
        "plt.ylabel('Accuracy')\n",
        "plt.yticks(np.arange(0.1, 1, step=0.05))\n",
        "plt.title('50% data train epoch&acc')\n",
        "plt.show()"
      ],
      "execution_count": 28,
      "outputs": [
        {
          "output_type": "display_data",
          "data": {
            "image/png": "[encoded data removed]",
            "text/plain": [
              "<Figure size 432x288 with 1 Axes>"
            ]
          },
          "metadata": {
            "tags": [],
            "needs_background": "light"
          }
        }
      ]
    },
    {
      "cell_type": "code",
      "metadata": {
        "colab": {
          "base_uri": "https://localhost:8080/",
          "height": 295
        },
        "id": "L51ErIStPJD8",
        "outputId": "6bf17a25-0952-4203-e203-16d6418bfcd8"
      },
      "source": [
        "plt.plot(epoch,loss)\n",
        "plt.xlabel('Epoch')\n",
        "plt.ylabel('loss')\n",
        "plt.yticks(np.arange(0.05, 0, step=-0.005))\n",
        "plt.title('50% data train epoch&loss')\n",
        "plt.show()"
      ],
      "execution_count": 29,
      "outputs": [
        {
          "output_type": "display_data",
          "data": {
            "image/png": "[encoded data removed]",
            "text/plain": [
              "<Figure size 432x288 with 1 Axes>"
            ]
          },
          "metadata": {
            "tags": [],
            "needs_background": "light"
          }
        }
      ]
    },
    {
      "cell_type": "code",
      "metadata": {
        "id": "hl2iLhPxPPqt"
      },
      "source": [
        "model = MLPNet().to(device)\n",
        "optimizer = optim.SGD(model.parameters(), lr=lr, momentum=momentum)\n",
        "criterion=nn.CrossEntropyLoss()\n",
        "\n",
        "def train075(interval, model, device, train_loader, optimizer, epoch):\n",
        "    model.train()\n",
        "    for batch_idx, (data, target) in enumerate(train_loader):\n",
        "      if batch_idx * len(data)> len(train_loader.dataset)*0.75:\n",
        "        break\n",
        "      data, target = data.to(device), target.to(device)\n",
        "      optimizer.zero_grad()\n",
        "      output = model(data)\n",
        "      loss = criterion(output, target)\n",
        "      loss.backward()\n",
        "      optimizer.step()\n",
        "      if batch_idx % interval == 0:\n",
        "          print('Train Epoch: {} [{}/{} ({:.0f}%)]\\tLoss: {:.6f}'.format(\n",
        "              epoch, batch_idx * len(data), len(train_loader.dataset),\n",
        "              100. * batch_idx / len(train_loader), loss.item()))\n",
        "        "
      ],
      "execution_count": 30,
      "outputs": []
    },
    {
      "cell_type": "code",
      "metadata": {
        "colab": {
          "base_uri": "https://localhost:8080/"
        },
        "id": "8muWNAyfPbaV",
        "outputId": "b86f022c-42e1-4a0f-840e-28bb20e6b203"
      },
      "source": [
        "\n",
        "result={}\n",
        "for epoch in range(1, epochs):\n",
        "    train075(interval, model, device, train_loader, optimizer, epoch)\n",
        "    result=test(interval, model, device, test_loader,result,epoch)"
      ],
      "execution_count": 31,
      "outputs": [
        {
          "output_type": "stream",
          "text": [
            "Train Epoch: 1 [0/60000 (0%)]\tLoss: 2.329664\n",
            "Train Epoch: 1 [6400/60000 (11%)]\tLoss: 2.288076\n",
            "Train Epoch: 1 [12800/60000 (21%)]\tLoss: 2.308319\n",
            "Train Epoch: 1 [19200/60000 (32%)]\tLoss: 2.287156\n",
            "Train Epoch: 1 [25600/60000 (43%)]\tLoss: 2.319040\n",
            "Train Epoch: 1 [32000/60000 (53%)]\tLoss: 2.293803\n",
            "Train Epoch: 1 [38400/60000 (64%)]\tLoss: 2.304459\n",
            "Train Epoch: 1 [44800/60000 (75%)]\tLoss: 2.291061\n",
            "\n",
            "Test set: Average loss: 0.0361, Accuracy: 1135/10000 (11%)\n",
            "\n",
            "Train Epoch: 2 [0/60000 (0%)]\tLoss: 2.297767\n",
            "Train Epoch: 2 [6400/60000 (11%)]\tLoss: 2.290913\n",
            "Train Epoch: 2 [12800/60000 (21%)]\tLoss: 2.313333\n",
            "Train Epoch: 2 [19200/60000 (32%)]\tLoss: 2.294075\n",
            "Train Epoch: 2 [25600/60000 (43%)]\tLoss: 2.303956\n",
            "Train Epoch: 2 [32000/60000 (53%)]\tLoss: 2.286801\n",
            "Train Epoch: 2 [38400/60000 (64%)]\tLoss: 2.277178\n",
            "Train Epoch: 2 [44800/60000 (75%)]\tLoss: 2.275529\n",
            "\n",
            "Test set: Average loss: 0.0356, Accuracy: 1410/10000 (14%)\n",
            "\n",
            "Train Epoch: 3 [0/60000 (0%)]\tLoss: 2.263693\n",
            "Train Epoch: 3 [6400/60000 (11%)]\tLoss: 2.272957\n",
            "Train Epoch: 3 [12800/60000 (21%)]\tLoss: 2.225466\n",
            "Train Epoch: 3 [19200/60000 (32%)]\tLoss: 2.137496\n",
            "Train Epoch: 3 [25600/60000 (43%)]\tLoss: 2.007173\n",
            "Train Epoch: 3 [32000/60000 (53%)]\tLoss: 1.656356\n",
            "Train Epoch: 3 [38400/60000 (64%)]\tLoss: 1.380663\n",
            "Train Epoch: 3 [44800/60000 (75%)]\tLoss: 0.850866\n",
            "\n",
            "Test set: Average loss: 0.0171, Accuracy: 6040/10000 (60%)\n",
            "\n",
            "Train Epoch: 4 [0/60000 (0%)]\tLoss: 1.010376\n",
            "Train Epoch: 4 [6400/60000 (11%)]\tLoss: 0.768208\n",
            "Train Epoch: 4 [12800/60000 (21%)]\tLoss: 0.994516\n",
            "Train Epoch: 4 [19200/60000 (32%)]\tLoss: 0.638650\n",
            "Train Epoch: 4 [25600/60000 (43%)]\tLoss: 1.027749\n",
            "Train Epoch: 4 [32000/60000 (53%)]\tLoss: 0.845225\n",
            "Train Epoch: 4 [38400/60000 (64%)]\tLoss: 0.668525\n",
            "Train Epoch: 4 [44800/60000 (75%)]\tLoss: 0.617582\n",
            "\n",
            "Test set: Average loss: 0.0104, Accuracy: 7944/10000 (79%)\n",
            "\n",
            "Train Epoch: 5 [0/60000 (0%)]\tLoss: 0.485019\n",
            "Train Epoch: 5 [6400/60000 (11%)]\tLoss: 1.072154\n",
            "Train Epoch: 5 [12800/60000 (21%)]\tLoss: 0.633427\n",
            "Train Epoch: 5 [19200/60000 (32%)]\tLoss: 0.625639\n",
            "Train Epoch: 5 [25600/60000 (43%)]\tLoss: 0.411425\n",
            "Train Epoch: 5 [32000/60000 (53%)]\tLoss: 0.560362\n",
            "Train Epoch: 5 [38400/60000 (64%)]\tLoss: 0.488750\n",
            "Train Epoch: 5 [44800/60000 (75%)]\tLoss: 0.206299\n",
            "\n",
            "Test set: Average loss: 0.0065, Accuracy: 8847/10000 (88%)\n",
            "\n",
            "Train Epoch: 6 [0/60000 (0%)]\tLoss: 0.361961\n",
            "Train Epoch: 6 [6400/60000 (11%)]\tLoss: 0.238787\n",
            "Train Epoch: 6 [12800/60000 (21%)]\tLoss: 0.414534\n",
            "Train Epoch: 6 [19200/60000 (32%)]\tLoss: 0.540047\n",
            "Train Epoch: 6 [25600/60000 (43%)]\tLoss: 0.254254\n",
            "Train Epoch: 6 [32000/60000 (53%)]\tLoss: 0.256195\n",
            "Train Epoch: 6 [38400/60000 (64%)]\tLoss: 0.407401\n",
            "Train Epoch: 6 [44800/60000 (75%)]\tLoss: 0.188764\n",
            "\n",
            "Test set: Average loss: 0.0048, Accuracy: 9164/10000 (92%)\n",
            "\n",
            "Train Epoch: 7 [0/60000 (0%)]\tLoss: 0.116499\n",
            "Train Epoch: 7 [6400/60000 (11%)]\tLoss: 0.360523\n",
            "Train Epoch: 7 [12800/60000 (21%)]\tLoss: 0.428219\n",
            "Train Epoch: 7 [19200/60000 (32%)]\tLoss: 0.256617\n",
            "Train Epoch: 7 [25600/60000 (43%)]\tLoss: 0.243543\n",
            "Train Epoch: 7 [32000/60000 (53%)]\tLoss: 0.386806\n",
            "Train Epoch: 7 [38400/60000 (64%)]\tLoss: 0.618901\n",
            "Train Epoch: 7 [44800/60000 (75%)]\tLoss: 0.159813\n",
            "\n",
            "Test set: Average loss: 0.0038, Accuracy: 9356/10000 (94%)\n",
            "\n",
            "Train Epoch: 8 [0/60000 (0%)]\tLoss: 0.270654\n",
            "Train Epoch: 8 [6400/60000 (11%)]\tLoss: 0.261013\n",
            "Train Epoch: 8 [12800/60000 (21%)]\tLoss: 0.148696\n",
            "Train Epoch: 8 [19200/60000 (32%)]\tLoss: 0.203648\n",
            "Train Epoch: 8 [25600/60000 (43%)]\tLoss: 0.204053\n",
            "Train Epoch: 8 [32000/60000 (53%)]\tLoss: 0.180562\n",
            "Train Epoch: 8 [38400/60000 (64%)]\tLoss: 0.134896\n",
            "Train Epoch: 8 [44800/60000 (75%)]\tLoss: 0.226519\n",
            "\n",
            "Test set: Average loss: 0.0032, Accuracy: 9450/10000 (94%)\n",
            "\n",
            "Train Epoch: 9 [0/60000 (0%)]\tLoss: 0.079908\n",
            "Train Epoch: 9 [6400/60000 (11%)]\tLoss: 0.172087\n",
            "Train Epoch: 9 [12800/60000 (21%)]\tLoss: 0.135956\n",
            "Train Epoch: 9 [19200/60000 (32%)]\tLoss: 0.278540\n",
            "Train Epoch: 9 [25600/60000 (43%)]\tLoss: 0.219375\n",
            "Train Epoch: 9 [32000/60000 (53%)]\tLoss: 0.103056\n",
            "Train Epoch: 9 [38400/60000 (64%)]\tLoss: 0.088716\n",
            "Train Epoch: 9 [44800/60000 (75%)]\tLoss: 0.300865\n",
            "\n",
            "Test set: Average loss: 0.0027, Accuracy: 9518/10000 (95%)\n",
            "\n"
          ],
          "name": "stdout"
        }
      ]
    },
    {
      "cell_type": "code",
      "metadata": {
        "id": "sIe0cUN0Pbwe"
      },
      "source": [
        "epoch=[k for k in range(1,10)]\n",
        "acc=[result[i]['Accuracy'] for i in epoch ]\n",
        "loss=[result[i]['Loss'] for i in epoch ]"
      ],
      "execution_count": 32,
      "outputs": []
    },
    {
      "cell_type": "code",
      "metadata": {
        "colab": {
          "base_uri": "https://localhost:8080/",
          "height": 295
        },
        "id": "WBvI32sqPkb7",
        "outputId": "0dc4d5e6-2ec4-4d28-f005-831088be4763"
      },
      "source": [
        "plt.plot(epoch,acc)\n",
        "plt.xlabel('Epoch')\n",
        "plt.ylabel('Accuracy')\n",
        "plt.yticks(np.arange(0.1, 1, step=0.05))\n",
        "plt.title('75% data train epoch&acc')\n",
        "plt.show()"
      ],
      "execution_count": 33,
      "outputs": [
        {
          "output_type": "display_data",
          "data": {
            "image/png": "[encoded data removed]",
            "text/plain": [
              "<Figure size 432x288 with 1 Axes>"
            ]
          },
          "metadata": {
            "tags": [],
            "needs_background": "light"
          }
        }
      ]
    },
    {
      "cell_type": "code",
      "metadata": {
        "colab": {
          "base_uri": "https://localhost:8080/",
          "height": 295
        },
        "id": "mZ35Ji-TPkXV",
        "outputId": "5c31729b-404a-47cd-8bf9-0a4deef538cd"
      },
      "source": [
        "plt.plot(epoch,loss)\n",
        "plt.xlabel('Epoch')\n",
        "plt.ylabel('loss')\n",
        "plt.yticks(np.arange(0.05, 0, step=-0.005))\n",
        "plt.title('75% data train epoch&loss')\n",
        "plt.show()"
      ],
      "execution_count": 34,
      "outputs": [
        {
          "output_type": "display_data",
          "data": {
            "image/png": "[encoded data removed]",
            "text/plain": [
              "<Figure size 432x288 with 1 Axes>"
            ]
          },
          "metadata": {
            "tags": [],
            "needs_background": "light"
          }
        }
      ]
    },
    {
      "cell_type": "code",
      "metadata": {
        "id": "8mg3CTUtPvUn"
      },
      "source": [
        ""
      ],
      "execution_count": null,
      "outputs": []
    }
  ]
}